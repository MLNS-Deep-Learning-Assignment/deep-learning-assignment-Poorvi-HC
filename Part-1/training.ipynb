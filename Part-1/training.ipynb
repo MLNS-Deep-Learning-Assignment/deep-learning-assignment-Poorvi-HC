{
 "cells": [
  {
   "cell_type": "code",
   "execution_count": 7,
   "metadata": {},
   "outputs": [],
   "source": [
    "import numpy as np\n",
    "import tensorflow as tf\n",
    "from tensorflow.keras.models import Sequential\n",
    "from tensorflow.keras.layers import Conv2D, MaxPooling2D, Flatten, Dense, Dropout\n",
    "from tensorflow.keras.optimizers import Adam\n",
    "from sklearn.model_selection import train_test_split\n",
    "import matplotlib.pyplot as plt"
   ]
  },
  {
   "cell_type": "code",
   "execution_count": 8,
   "metadata": {},
   "outputs": [],
   "source": [
    "# Load data using the provided load_data.py script\n",
    "def load_data():\n",
    "    data0 = np.load('../DL-Project/data0.npy')\n",
    "    data1 = np.load('../DL-Project/data1.npy')\n",
    "    data2 = np.load('../DL-Project/data2.npy')\n",
    "    lab0 = np.load('../DL-Project/lab0.npy')\n",
    "    lab1 = np.load('../DL-Project/lab1.npy')\n",
    "    lab2 = np.load('../DL-Project/lab2.npy')\n",
    "\n",
    "    # Combine data and labels\n",
    "    data = np.concatenate([data0, data1, data2], axis=0)\n",
    "    labels = np.concatenate([lab0, lab1, lab2], axis=0)\n",
    "\n",
    "    return data, labels"
   ]
  },
  {
   "cell_type": "code",
   "execution_count": 9,
   "metadata": {},
   "outputs": [],
   "source": [
    "# Preprocess data\n",
    "def preprocess_data(data, labels):\n",
    "    # Normalize images to the range [0, 1]\n",
    "    data = data / 255.0\n",
    "\n",
    "    # Add channel dimension for grayscale images\n",
    "    data = np.expand_dims(data, axis=-1)\n",
    "\n",
    "    # Split data into training and validation sets\n",
    "    X_train, X_val, y_train, y_val = train_test_split(data, labels, test_size=0.2, random_state=42)\n",
    "\n",
    "    return X_train, X_val, y_train, y_val\n",
    "\n",
    "# Visualize data with rounded predictions\n",
    "def visualize_predictions(data, labels, predictions, num_samples=5):\n",
    "    plt.figure(figsize=(10, 5))\n",
    "    for i in range(num_samples):\n",
    "        plt.subplot(1, num_samples, i + 1)\n",
    "        plt.imshow(data[i].squeeze(), cmap='gray')\n",
    "        plt.title(f\"Actual: {labels[i]}\\nPredicted: {predictions[i]}\")\n",
    "        plt.axis('off')\n",
    "    plt.tight_layout()\n",
    "    plt.show()"
   ]
  },
  {
   "cell_type": "code",
   "execution_count": 10,
   "metadata": {},
   "outputs": [],
   "source": [
    "# Define the CNN model\n",
    "def build_model(input_shape):\n",
    "    model = Sequential([\n",
    "        Conv2D(32, (3, 3), activation='relu', input_shape=input_shape),\n",
    "        MaxPooling2D((2, 2)),\n",
    "        Dropout(0.2),\n",
    "\n",
    "        Conv2D(64, (3, 3), activation='relu'),\n",
    "        MaxPooling2D((2, 2)),\n",
    "        Dropout(0.3),\n",
    "\n",
    "        Flatten(),\n",
    "        Dense(128, activation='relu'),\n",
    "        Dropout(0.4),\n",
    "        Dense(1, activation='linear')  \n",
    "    ])\n",
    "\n",
    "    return model"
   ]
  },
  {
   "cell_type": "code",
   "execution_count": 11,
   "metadata": {},
   "outputs": [],
   "source": [
    "# Calculate accuracy with predictions\n",
    "def calculate_accuracy(labels, predictions, threshold=1.0):\n",
    "    correct = np.sum(np.abs(labels - predictions) <= threshold)\n",
    "    accuracy = correct / len(labels)\n",
    "    return accuracy\n"
   ]
  },
  {
   "cell_type": "code",
   "execution_count": 12,
   "metadata": {},
   "outputs": [
    {
     "name": "stderr",
     "output_type": "stream",
     "text": [
      "/home/poorvi/miniconda3/envs/mlns/lib/python3.12/site-packages/keras/src/layers/convolutional/base_conv.py:107: UserWarning: Do not pass an `input_shape`/`input_dim` argument to a layer. When using Sequential models, prefer using an `Input(shape)` object as the first layer in the model instead.\n",
      "  super().__init__(activity_regularizer=activity_regularizer, **kwargs)\n",
      "2025-01-08 20:16:12.295530: E external/local_xla/xla/stream_executor/cuda/cuda_driver.cc:152] failed call to cuInit: INTERNAL: CUDA error: Failed call to cuInit: UNKNOWN ERROR (303)\n"
     ]
    },
    {
     "name": "stdout",
     "output_type": "stream",
     "text": [
      "Epoch 1/15\n",
      "\u001b[1m750/750\u001b[0m \u001b[32m━━━━━━━━━━━━━━━━━━━━\u001b[0m\u001b[37m\u001b[0m \u001b[1m44s\u001b[0m 57ms/step - loss: 44.3391 - mae: 5.2395 - val_loss: 23.6262 - val_mae: 3.9036\n",
      "Epoch 2/15\n",
      "\u001b[1m750/750\u001b[0m \u001b[32m━━━━━━━━━━━━━━━━━━━━\u001b[0m\u001b[37m\u001b[0m \u001b[1m45s\u001b[0m 60ms/step - loss: 25.0566 - mae: 4.0149 - val_loss: 16.4330 - val_mae: 3.2455\n",
      "Epoch 3/15\n",
      "\u001b[1m750/750\u001b[0m \u001b[32m━━━━━━━━━━━━━━━━━━━━\u001b[0m\u001b[37m\u001b[0m \u001b[1m48s\u001b[0m 64ms/step - loss: 19.8357 - mae: 3.5652 - val_loss: 15.3013 - val_mae: 3.1202\n",
      "Epoch 4/15\n",
      "\u001b[1m750/750\u001b[0m \u001b[32m━━━━━━━━━━━━━━━━━━━━\u001b[0m\u001b[37m\u001b[0m \u001b[1m54s\u001b[0m 72ms/step - loss: 17.4832 - mae: 3.3323 - val_loss: 17.2368 - val_mae: 3.3381\n",
      "Epoch 5/15\n",
      "\u001b[1m750/750\u001b[0m \u001b[32m━━━━━━━━━━━━━━━━━━━━\u001b[0m\u001b[37m\u001b[0m \u001b[1m54s\u001b[0m 72ms/step - loss: 16.1724 - mae: 3.1962 - val_loss: 12.6083 - val_mae: 2.8159\n",
      "Epoch 6/15\n",
      "\u001b[1m750/750\u001b[0m \u001b[32m━━━━━━━━━━━━━━━━━━━━\u001b[0m\u001b[37m\u001b[0m \u001b[1m53s\u001b[0m 71ms/step - loss: 15.8222 - mae: 3.1737 - val_loss: 16.8631 - val_mae: 3.3083\n",
      "Epoch 7/15\n",
      "\u001b[1m750/750\u001b[0m \u001b[32m━━━━━━━━━━━━━━━━━━━━\u001b[0m\u001b[37m\u001b[0m \u001b[1m52s\u001b[0m 70ms/step - loss: 14.4853 - mae: 3.0432 - val_loss: 13.9865 - val_mae: 2.9881\n",
      "Epoch 8/15\n",
      "\u001b[1m750/750\u001b[0m \u001b[32m━━━━━━━━━━━━━━━━━━━━\u001b[0m\u001b[37m\u001b[0m \u001b[1m57s\u001b[0m 76ms/step - loss: 13.8387 - mae: 2.9539 - val_loss: 10.7704 - val_mae: 2.6053\n",
      "Epoch 9/15\n",
      "\u001b[1m750/750\u001b[0m \u001b[32m━━━━━━━━━━━━━━━━━━━━\u001b[0m\u001b[37m\u001b[0m \u001b[1m57s\u001b[0m 76ms/step - loss: 13.7463 - mae: 2.9530 - val_loss: 13.8434 - val_mae: 2.9661\n",
      "Epoch 10/15\n",
      "\u001b[1m750/750\u001b[0m \u001b[32m━━━━━━━━━━━━━━━━━━━━\u001b[0m\u001b[37m\u001b[0m \u001b[1m56s\u001b[0m 75ms/step - loss: 13.8027 - mae: 2.9525 - val_loss: 20.2920 - val_mae: 3.7032\n",
      "Epoch 11/15\n",
      "\u001b[1m750/750\u001b[0m \u001b[32m━━━━━━━━━━━━━━━━━━━━\u001b[0m\u001b[37m\u001b[0m \u001b[1m57s\u001b[0m 76ms/step - loss: 12.5019 - mae: 2.8030 - val_loss: 13.4046 - val_mae: 2.9306\n",
      "Epoch 12/15\n",
      "\u001b[1m750/750\u001b[0m \u001b[32m━━━━━━━━━━━━━━━━━━━━\u001b[0m\u001b[37m\u001b[0m \u001b[1m60s\u001b[0m 80ms/step - loss: 12.7429 - mae: 2.8388 - val_loss: 9.8602 - val_mae: 2.4894\n",
      "Epoch 13/15\n",
      "\u001b[1m750/750\u001b[0m \u001b[32m━━━━━━━━━━━━━━━━━━━━\u001b[0m\u001b[37m\u001b[0m \u001b[1m58s\u001b[0m 77ms/step - loss: 12.1390 - mae: 2.7845 - val_loss: 13.9981 - val_mae: 3.0021\n",
      "Epoch 14/15\n",
      "\u001b[1m750/750\u001b[0m \u001b[32m━━━━━━━━━━━━━━━━━━━━\u001b[0m\u001b[37m\u001b[0m \u001b[1m62s\u001b[0m 82ms/step - loss: 11.9291 - mae: 2.7493 - val_loss: 10.8166 - val_mae: 2.5969\n",
      "Epoch 15/15\n",
      "\u001b[1m750/750\u001b[0m \u001b[32m━━━━━━━━━━━━━━━━━━━━\u001b[0m\u001b[37m\u001b[0m \u001b[1m60s\u001b[0m 80ms/step - loss: 11.9311 - mae: 2.7547 - val_loss: 11.3821 - val_mae: 2.6790\n"
     ]
    }
   ],
   "source": [
    "# Load and preprocess data\n",
    "data, labels = load_data()\n",
    "X_train, X_val, y_train, y_val = preprocess_data(data, labels)\n",
    "\n",
    "# Build the model\n",
    "input_shape = X_train.shape[1:]  # Get input shape from the training data\n",
    "model = build_model(input_shape)\n",
    "\n",
    "model.compile(optimizer=Adam(learning_rate=0.001), loss='mean_squared_error', metrics=['mae'])\n",
    "\n",
    "history = model.fit(\n",
    "    X_train, y_train,\n",
    "    validation_data=(X_val, y_val),\n",
    "    epochs=15,\n",
    "    batch_size=32\n",
    ")\n",
    "\n",
    "model.save('baseline_model.keras')"
   ]
  },
  {
   "cell_type": "code",
   "execution_count": 13,
   "metadata": {},
   "outputs": [
    {
     "name": "stdout",
     "output_type": "stream",
     "text": [
      "\u001b[1m188/188\u001b[0m \u001b[32m━━━━━━━━━━━━━━━━━━━━\u001b[0m\u001b[37m\u001b[0m \u001b[1m2s\u001b[0m 12ms/step - loss: 11.0743 - mae: 2.6445\n",
      "Validation Loss: 11.38208293914795, Validation MAE: 2.67899227142334\n"
     ]
    }
   ],
   "source": [
    "val_loss, val_mae = model.evaluate(X_val, y_val)\n",
    "print(f\"Validation Loss: {val_loss}, Validation MAE: {val_mae}\")"
   ]
  }
 ],
 "metadata": {
  "kernelspec": {
   "display_name": "mlns",
   "language": "python",
   "name": "python3"
  },
  "language_info": {
   "codemirror_mode": {
    "name": "ipython",
    "version": 3
   },
   "file_extension": ".py",
   "mimetype": "text/x-python",
   "name": "python",
   "nbconvert_exporter": "python",
   "pygments_lexer": "ipython3",
   "version": "3.12.4"
  }
 },
 "nbformat": 4,
 "nbformat_minor": 2
}
